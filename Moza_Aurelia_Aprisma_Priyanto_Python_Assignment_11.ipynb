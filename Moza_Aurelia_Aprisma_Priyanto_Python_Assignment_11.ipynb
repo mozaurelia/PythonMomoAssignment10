{
  "nbformat": 4,
  "nbformat_minor": 0,
  "metadata": {
    "colab": {
      "name": "Moza Aurelia Aprisma Priyanto - Python Assignment 11.ipynb",
      "provenance": [],
      "collapsed_sections": [],
      "include_colab_link": true
    },
    "kernelspec": {
      "name": "python3",
      "display_name": "Python 3"
    },
    "accelerator": "TPU"
  },
  "cells": [
    {
      "cell_type": "markdown",
      "metadata": {
        "id": "view-in-github",
        "colab_type": "text"
      },
      "source": [
        "<a href=\"https://colab.research.google.com/github/mozaurelia/PythonMomoAssignment10/blob/main/Moza_Aurelia_Aprisma_Priyanto_Python_Assignment_11.ipynb\" target=\"_parent\"><img src=\"https://colab.research.google.com/assets/colab-badge.svg\" alt=\"Open In Colab\"/></a>"
      ]
    },
    {
      "cell_type": "code",
      "metadata": {
        "id": "qmUFd29A4Ez0",
        "colab": {
          "base_uri": "https://localhost:8080/"
        },
        "outputId": "beedc0f8-3471-49c9-8120-556cdd6b48c9"
      },
      "source": [
        "from google.colab import drive\n",
        "drive.mount('/content/drive')"
      ],
      "execution_count": 1,
      "outputs": [
        {
          "output_type": "stream",
          "text": [
            "Mounted at /content/drive\n"
          ],
          "name": "stdout"
        }
      ]
    },
    {
      "cell_type": "code",
      "metadata": {
        "colab": {
          "base_uri": "https://localhost:8080/"
        },
        "id": "3MXl-6iN4Fel",
        "outputId": "75613e79-9e56-4af9-ecb6-2fd13511a16b"
      },
      "source": [
        "cd /content/drive/MyDrive/data"
      ],
      "execution_count": 2,
      "outputs": [
        {
          "output_type": "stream",
          "text": [
            "/content/drive/.shortcut-targets-by-id/159v1PyNR-eiF05P3GpgLBVbisZbUCh7Q/Colab Notebooks (1)\n"
          ],
          "name": "stdout"
        }
      ]
    },
    {
      "cell_type": "code",
      "metadata": {
        "id": "2smwlEJd5oVh",
        "colab": {
          "base_uri": "https://localhost:8080/"
        },
        "outputId": "ff1aa8b4-0cbf-4030-e7b8-d7d4ceea4d57"
      },
      "source": [
        "ls"
      ],
      "execution_count": 3,
      "outputs": [
        {
          "output_type": "stream",
          "text": [
            "\u001b[0m\u001b[01;34m'3scene '\u001b[0m/                        \u001b[01;34mdataset\u001b[0m/          \u001b[01;34mnnmodel_scene\u001b[0m/\n",
            " best_weight_scene_mobileNet.h5   forest_test.jpg\n"
          ],
          "name": "stdout"
        }
      ]
    },
    {
      "cell_type": "code",
      "metadata": {
        "id": "zh8aK1_t50sF"
      },
      "source": [
        "# Import necessary modules and packages\n",
        "from keras.models import Sequential\n",
        "from keras.layers.core import Activation\n",
        "from keras.layers.core import Flatten\n",
        "from keras.layers.core import Dense\n",
        "from keras.optimizers import Adam\n",
        "from sklearn.preprocessing import LabelBinarizer\n",
        "from sklearn.model_selection import train_test_split\n",
        "from sklearn.metrics import classification_report\n",
        "from PIL import Image\n",
        "from imutils import paths\n",
        "import numpy as np\n",
        "import os"
      ],
      "execution_count": 4,
      "outputs": []
    },
    {
      "cell_type": "code",
      "metadata": {
        "id": "Q11V4AvR6p6U",
        "colab": {
          "base_uri": "https://localhost:8080/"
        },
        "outputId": "581b8c34-f6d5-4a9a-b1f9-474fe5b4bf96"
      },
      "source": [
        "# Create the image path with \"paths\" in the input data dataset directory\n",
        "# List the images and its labels\n",
        "print(\"[INFO loading images..\")\n",
        "imagePaths = paths.list_images(\"dataset\")\n",
        "data = []\n",
        "labels = []"
      ],
      "execution_count": 5,
      "outputs": [
        {
          "output_type": "stream",
          "text": [
            "[INFO loading images..\n"
          ],
          "name": "stdout"
        }
      ]
    },
    {
      "cell_type": "code",
      "metadata": {
        "id": "IgkUThz67UV_"
      },
      "source": [
        "# Loop over the input images using \"for\" function:\n",
        "for imagePath in imagePaths:\n",
        "  # Load the input image from the selected image path\n",
        "  image = Image.open(imagePath)\n",
        "\n",
        "  # Resize it to 64x64 pixels, the pixel intensities to the range [0,1] and then updateour image list\n",
        "  # Conducting the prepocessing and normalize process to the image\n",
        "  image = np.array(image.resize((64,64))) / 255.0 \n",
        "  data.append(image)\n",
        "\n",
        "  # Extract the class label from the path file and update the labels list\n",
        "  label = imagePath.split(os.path.sep)[-2]\n",
        "  labels.append(label)"
      ],
      "execution_count": 6,
      "outputs": []
    },
    {
      "cell_type": "code",
      "metadata": {
        "id": "3hWOjjG29LZC",
        "colab": {
          "base_uri": "https://localhost:8080/"
        },
        "outputId": "7312413e-03ae-46f8-cf04-b68aaf225628"
      },
      "source": [
        "# Visualize the input image label list\n",
        "print(labels)"
      ],
      "execution_count": 7,
      "outputs": [
        {
          "output_type": "stream",
          "text": [
            "[]\n"
          ],
          "name": "stdout"
        }
      ]
    },
    {
      "cell_type": "code",
      "metadata": {
        "id": "g5Jnj3fE9QmV"
      },
      "source": [
        "# Encode the input image labels, convert them from strings to integers to make easier for computer to proceed\n",
        "lb = LabelBinarizer()\n",
        "labels = lb.fit_transform(labels)"
      ],
      "execution_count": null,
      "outputs": []
    },
    {
      "cell_type": "code",
      "metadata": {
        "id": "0D26gCwK91rY"
      },
      "source": [
        "# Visualize the converted input label images\n",
        "print(labels)"
      ],
      "execution_count": null,
      "outputs": []
    },
    {
      "cell_type": "code",
      "metadata": {
        "id": "vO0sDwo198Pl"
      },
      "source": [
        "# Perform a training and testing split data for modeling\n",
        "# Using 80% of the data for training and 20% of the data for evaluation\n",
        "(trainX, testX, trainY, testY) = train_test_split(np.array(data), np.array(labels), test_size=0.20, shuffle=True)\n",
        "\n",
        "# Visualize train and test X shape\n",
        "print(trainX.shape)\n",
        "print(testX.shape)"
      ],
      "execution_count": null,
      "outputs": []
    },
    {
      "cell_type": "code",
      "metadata": {
        "id": "vRtk4LzO-jxz"
      },
      "source": [
        "# Conducting Convolutional Neural Network and Fully Connected Feedforward Network\n",
        "\n",
        "# Import necessary modules and packages\n",
        "from keras.layers import Convolution2D, MaxPooling2D\n",
        "from keras.models import Sequential\n",
        "from keras.layers.core import Flatten, Dense\n",
        "\n",
        "# Proceed the CNN stages (2 times of Convolution and Max Pooling)\n",
        "model = Sequential()\n",
        "model.add(Convolution2D(8, (3,3), activation=\"relu\", input_shape=(64,64,3))) # the input shape is supposed to be the same as resize input image [64x64] for RGB image\n",
        "model.add(MaxPool2D(2,2))\n",
        "model.add(Convolution2D(16, (3,3), activation=\"relu\"))\n",
        "model.add(MAxPool2D(2,2))\n",
        "\n",
        "# Conduct the Fully Connected Layer  stages\n",
        "model.add(Flatten) # remap the weight to 1D\n",
        "model.add(Dense(100, activation='relu'))\n",
        "model.add(Dense(5, activation='softmax')) # 5 for attributes that is use for this modeling\n",
        "\n",
        "# Perform the model summary\n",
        "model.summary"
      ],
      "execution_count": null,
      "outputs": []
    },
    {
      "cell_type": "code",
      "metadata": {
        "id": "4qWBzMYtBVq-"
      },
      "source": [
        "# Train the model using the Adam Optimizer\n",
        "print('[INFO] training network...')\n",
        "opt = Adam(lr=1e-3, decay=1e-3/50)\n",
        "model.compile(loss=\"categorical_crossentropy\", optimizer=opt, metrics[\"accuracy\"])"
      ],
      "execution_count": null,
      "outputs": []
    },
    {
      "cell_type": "code",
      "metadata": {
        "id": "Rlnd8BKhBxTw"
      },
      "source": [
        "H = model.fit(trainX,trainY, validation_data=(testX, testY,), epochs=25, batch_size=32)"
      ],
      "execution_count": null,
      "outputs": []
    },
    {
      "cell_type": "code",
      "metadata": {
        "id": "QbimpoHtB-t6"
      },
      "source": [
        "# Visualixe the trained model\n",
        "\n",
        "# Import Matplotlib\n",
        "import matplotlib.pyplot as plt\n",
        "\n",
        "print(H.history.keys())\n",
        "\n",
        "# Summarize history for accuracy\n",
        "plt.plot(H.history['accuracy'])\n",
        "plt.plot(H.history['val_accuracy'])\n",
        "plt.title('Model Accuracy')\n",
        "plt.ylabel('Accuracy')\n",
        "plt.xlabel('Epoch')\n",
        "plt.legend(['Train', 'Test'], loc='upper left')\n",
        "plt.show()\n",
        "\n",
        "# Summarize history for loss\n",
        "plt.plot(H.history['loss'])\n",
        "plt.plot(H.history['val_loss'])\n",
        "plt.title('Modell Loss')\n",
        "plt.ylabel('Loss')\n",
        "plt.xlabel('Epoch')\n",
        "plt.legend(['Train', 'Test'], loc='upper left')\n",
        "plt.show()"
      ],
      "execution_count": null,
      "outputs": []
    },
    {
      "cell_type": "code",
      "metadata": {
        "id": "A1KKLF2bDQsD"
      },
      "source": [
        "# Evaluate the model by using F1 Score Table\n",
        "print('[INFO] Evaluating Network...')\n",
        "predictions = model.predict(testX, batch_size=32)\n",
        "print(classification_report(testY.argmax(axis=1), predictions.argmax(axis=1), target_names=lb.classes_))"
      ],
      "execution_count": null,
      "outputs": []
    },
    {
      "cell_type": "code",
      "metadata": {
        "id": "ZjG9TI_tD2n_"
      },
      "source": [
        "# Save the Model\n",
        "model.save('cnnmodel_leaf')"
      ],
      "execution_count": null,
      "outputs": []
    },
    {
      "cell_type": "code",
      "metadata": {
        "id": "cqMvVNt1D-Xo"
      },
      "source": [
        "# Perform image testing by using the saved moddel by using cv2\n",
        "\n",
        "# Import necessary modules\n",
        "import cv2\n",
        "import matplotlib.pyplot as plt \n",
        "image_test = 'leaf_test.jpg'"
      ],
      "execution_count": null,
      "outputs": []
    },
    {
      "cell_type": "code",
      "metadata": {
        "id": "kyCgf61xEkBc"
      },
      "source": [
        "# Read and Show the image test file by using cv2 module\n",
        "img_array = cv2.imread(image_test)\n",
        "\n",
        "# Read and show the array based image using matplotlib module\n",
        "plt.imshow(img_array)\n",
        "plt.show()"
      ],
      "execution_count": null,
      "outputs": []
    },
    {
      "cell_type": "code",
      "metadata": {
        "id": "9IfhxAfTFEVF"
      },
      "source": [
        "image_testing = Image.open('leaf_test.jpg')\n",
        "image_testing = np.array(image_testing.resize((64,64))) / 255.0 # based on the image trained model size and normalize phase\n",
        "image_testing.shape # show the testing image shape "
      ],
      "execution_count": null,
      "outputs": []
    },
    {
      "cell_type": "code",
      "metadata": {
        "id": "p33hx9L6F2nx"
      },
      "source": [
        "image_testing = np.expand_dims(image_testing, axis=0)\n",
        "print(image_testing.shape)"
      ],
      "execution_count": null,
      "outputs": []
    },
    {
      "cell_type": "code",
      "metadata": {
        "id": "xeDTBM3sGA8e"
      },
      "source": [
        "output = model.predict(image_testing, 1)\n",
        "print(output)\n",
        "print(lb.classes_[output.argmax(Axis=1)])"
      ],
      "execution_count": null,
      "outputs": []
    }
  ]
}