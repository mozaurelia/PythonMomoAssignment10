{
  "nbformat": 4,
  "nbformat_minor": 0,
  "metadata": {
    "colab": {
      "name": "Moza Aurelia Aprima Priyanto - Assignment Week 13.ipynb",
      "provenance": [],
      "include_colab_link": true
    },
    "kernelspec": {
      "name": "python3",
      "display_name": "Python 3"
    }
  },
  "cells": [
    {
      "cell_type": "markdown",
      "metadata": {
        "id": "view-in-github",
        "colab_type": "text"
      },
      "source": [
        "<a href=\"https://colab.research.google.com/github/mozaurelia/PythonMomoAssignment10/blob/main/Moza_Aurelia_Aprima_Priyanto_Assignment_Week_13.ipynb\" target=\"_parent\"><img src=\"https://colab.research.google.com/assets/colab-badge.svg\" alt=\"Open In Colab\"/></a>"
      ]
    },
    {
      "cell_type": "code",
      "metadata": {
        "id": "yupp8nFF6SRK"
      },
      "source": [
        "# Import a needed library to create a plot\r\n",
        "import numpy as np \r\n",
        "import matplotlib.pyplot as plt"
      ],
      "execution_count": 1,
      "outputs": []
    },
    {
      "cell_type": "markdown",
      "metadata": {
        "id": "m06s5Jvu7m3N"
      },
      "source": [
        "Assigning **PATHLOSS MODEL COST 231** function\r\n",
        "\r\n"
      ]
    },
    {
      "cell_type": "code",
      "metadata": {
        "id": "qjdF26K86zhB"
      },
      "source": [
        "def pathloss(fq,types,ht,hr,d):\r\n",
        "\r\n",
        "  # If frequency is define by the range number in MHz then the result to assigned Ca and Cb values\r\n",
        "  if fq in range(150,1501):\r\n",
        "    Ca=69.55\r\n",
        "    Cb=26.16\r\n",
        "  elif fq in range(1501,2001):\r\n",
        "    Ca=46.3\r\n",
        "    Cb=33.9\r\n",
        "  else:\r\n",
        "    Ca = print(\"The given frequency is not fulfilling the C1 criteria.\")\r\n",
        "    Cb = print(\"The given frequency is not fulfilling the C2 criteria.\")\r\n",
        "    return Ca,Cb\r\n",
        "  \r\n",
        "  # Based on area type\r\n",
        "  if types == 'urban' :\r\n",
        "    cm=0\r\n",
        "  elif types == 'suburban' :\r\n",
        "    cm=-2*((np.log10((fq/28)**2))-5.4)\r\n",
        "  elif types == 'open':\r\n",
        "    cm=-4.78*(np.log10(fq))+18.33*(np.log10(fq))-40.94\r\n",
        "  else:\r\n",
        "    cm=print('The given area type(s) is not suitable for this parameter')\r\n",
        "  \r\n",
        "  # a(hr) value is\r\n",
        "  ahr = (1.1*np.log10(fq)-0.7)*hr-(1.56*np.log10(fq)-1.8)\r\n",
        "\r\n",
        "  # Calculating Path Loss Model\r\n",
        "  Lp = Ca+(Cb*np.log10(fq))-(13.83*np.log10(ht))-ahr+((44.9-6.55*np.log10(ht))*np.log10(d))-cm\r\n",
        "  return Lp"
      ],
      "execution_count": 2,
      "outputs": []
    },
    {
      "cell_type": "code",
      "metadata": {
        "colab": {
          "base_uri": "https://localhost:8080/"
        },
        "id": "bu0BDGhx_6x-",
        "outputId": "a737bfc7-e81b-4e5a-cdaf-579e141f3b24"
      },
      "source": [
        "# Calculate the Pathloss Model Cost 231 for 1800 MHz in Urban Area\r\n",
        "\r\n",
        "# fq is the frequency in range of 150 to 2000 MHz\r\n",
        "# ht is the height of antenna transmitter in range of 30 to 200 m\r\n",
        "# hr is the height of antenna receiver in range of 1 to 20 m\r\n",
        "# types is the type of area given\r\n",
        "# d is the distance between the transmitter and receiver in m\r\n",
        "\r\n",
        "f=1800 #in Mhz\r\n",
        "loc='urban'\r\n",
        "tower=80 #in m\r\n",
        "user=1.5 #in m\r\n",
        "dmin=200 #in m\r\n",
        "dmax=700 #in m\r\n",
        "N=200 #dots\r\n",
        "d=np.random.randint(dmin,dmax,N)\r\n",
        "\r\n",
        "# Print the randon integer of Urban area distance input\r\n",
        "print(d) "
      ],
      "execution_count": 3,
      "outputs": [
        {
          "output_type": "stream",
          "text": [
            "[236 573 216 644 388 323 333 394 684 659 313 450 526 202 565 449 306 337\n",
            " 625 538 276 538 503 283 223 219 509 464 436 658 511 686 623 512 326 521\n",
            " 218 481 467 360 557 493 361 647 370 251 417 343 276 598 453 394 444 397\n",
            " 237 465 617 399 422 586 280 466 378 453 288 298 245 491 510 402 505 435\n",
            " 314 510 693 600 480 286 427 395 462 206 224 262 680 620 217 685 315 526\n",
            " 619 450 696 360 561 270 273 680 531 297 214 633 480 471 431 256 622 325\n",
            " 634 580 666 460 286 502 428 253 214 371 632 241 424 574 306 653 631 412\n",
            " 619 363 507 612 231 514 598 657 375 485 222 651 378 563 405 619 666 523\n",
            " 625 454 463 321 632 671 528 382 350 317 218 472 497 536 670 222 439 620\n",
            " 372 537 284 305 204 520 524 517 343 419 426 421 678 629 264 515 546 274\n",
            " 543 581 275 358 204 655 643 378 517 560 696 520 277 441 372 544 688 506\n",
            " 635 283]\n"
          ],
          "name": "stdout"
        }
      ]
    },
    {
      "cell_type": "code",
      "metadata": {
        "colab": {
          "base_uri": "https://localhost:8080/"
        },
        "id": "StVU5hWUCoKV",
        "outputId": "a19a2bbc-10b8-45c7-a692-79c7ee1448ff"
      },
      "source": [
        "# Define a Pathloss Model Cost 231 for Urban Area by the given input\r\n",
        "LpUrban=pathloss(f,loc,tower,user,d)\r\n",
        "\r\n",
        "# Print the random integer of Lp Urban area Model\r\n",
        "print(LpUrban)"
      ],
      "execution_count": 4,
      "outputs": [
        {
          "output_type": "stream",
          "text": [
            "[206.25586158 218.7511137  205.00847739 220.3965695  213.25916609\n",
            " 210.67641195 211.10590368 213.47532743 221.24539478 220.72090242\n",
            " 210.233412   215.34734154 217.54555004 204.06454861 218.5530614\n",
            " 215.31600396 209.91480823 211.27409956 219.97472786 217.8632982\n",
            " 208.46133056 217.8632982  216.91573968 208.81413492 205.45773489\n",
            " 205.20277341 217.08277212 215.77890117 214.90214122 220.69951101\n",
            " 217.13801234 221.28652251 219.92957963 217.16555142 210.80664003\n",
            " 217.41100998 205.13830539 216.28576228 215.86968282 212.20408847\n",
            " 218.35218473 216.632874   212.24316267 220.46203625 212.59003693\n",
            " 207.12387152 214.27451452 211.52268667 208.46133056 219.352667\n",
            " 215.44093815 213.47532743 215.15826169 213.58217678 206.31542293\n",
            " 215.80922678 219.79326014 213.65296204 214.44240969 219.06712538\n",
            " 208.66401374 215.83948723 212.89135832 215.44093815 209.0608354\n",
            " 209.54164104 206.78305882 216.57561279 217.11041931 213.75847742\n",
            " 216.97163752 214.86979623 210.27834421 217.11041931 221.42953123\n",
            " 219.39969955 216.25644648 208.96267307 214.60832724 213.51103401\n",
            " 215.7180534  204.3407582  205.52076067 207.72805228 221.16277732\n",
            " 219.86158479 205.07354096 221.26597366 210.32313356 217.54555004\n",
            " 219.83884671 215.34734154 221.490379   212.20408847 218.45298114\n",
            " 208.15173046 208.30738108 221.16277732 217.67881724 209.4942923\n",
            " 204.87744168 220.15388751 216.25644648 215.98982204 214.7396684\n",
            " 207.40171558 219.90695113 210.76336431 220.1761231  218.92215424\n",
            " 220.86973952 215.65694164 208.96267307 216.88770735 214.64127752\n",
            " 207.23566764 204.87744168 212.62805649 220.13161678 206.55118136\n",
            " 214.50901141 218.77567558 209.91480823 220.59206398 220.10931078\n",
            " 214.10459403 219.83884671 212.32098738 217.02731442 219.67864407\n",
            " 205.95421756 217.2204686  219.352667   220.67808707 212.77911679\n",
            " 216.40241916 205.39442585 220.54885463 212.89135832 218.50311015\n",
            " 213.86320829 219.83884671 220.86973952 217.46498031 219.97472786\n",
            " 215.47199933 215.74851014 210.58891951 220.13161678 220.97509706\n",
            " 217.59900832 213.03963587 211.80726681 210.41228726 205.13830539\n",
            " 216.01969742 216.7467028  217.81083543 220.9540885  205.39442585\n",
            " 214.99873295 219.86158479 212.66597371 217.83709124 208.86382188\n",
            " 209.86869939 204.2033304  217.38394708 217.49188812 217.30244499\n",
            " 211.52268667 214.34191292 214.5752997  214.40899036 221.12128616\n",
            " 220.06459252 207.83517248 217.2478471  218.07121692 208.35888475\n",
            " 217.9936066  218.94641995 208.41020079 212.12561341 204.2033304\n",
            " 220.63514119 220.37467946 212.89135832 217.30244499 218.42784958\n",
            " 221.490379   217.38394708 208.51227542 215.06276141 212.66597371\n",
            " 218.01952425 221.32753051 216.99950348 220.19832363 208.81413492]\n"
          ],
          "name": "stdout"
        }
      ]
    },
    {
      "cell_type": "code",
      "metadata": {
        "colab": {
          "base_uri": "https://localhost:8080/"
        },
        "id": "bIEnSD6VH9Yh",
        "outputId": "eb030776-b7c7-4d5b-9dd8-12440eb47a12"
      },
      "source": [
        "# Calculating the Pathloss Model Cost 231 for 1800 MHz in Sub Urban Area\r\n",
        "\r\n",
        "# fq is the frequency in range of 150 to 2000 MHz\r\n",
        "# ht is the height of antenna transmitter in range of 30 to 200 m\r\n",
        "# hr is the height of antenna receiver in range of 1 to 20 m\r\n",
        "# types is the type of area given\r\n",
        "# d is the distance between the transmitter and receiver in m\r\n",
        "\r\n",
        "f2=1800 #in Mhz\r\n",
        "loc2='suburban'\r\n",
        "tower2=80 #in m\r\n",
        "user2=1.5 #in m\r\n",
        "dmin2=200 #in m\r\n",
        "dmax2=700 #in m\r\n",
        "N2=200 #dots\r\n",
        "d2=np.random.randint(dmin2,dmax2,N2)\r\n",
        "\r\n",
        "# Print the randon integer of Sub Urban area distance input\r\n",
        "print(d2) "
      ],
      "execution_count": 5,
      "outputs": [
        {
          "output_type": "stream",
          "text": [
            "[693 227 687 328 391 442 544 668 662 573 546 687 389 437 408 409 276 217\n",
            " 358 392 339 224 421 631 608 265 290 568 668 465 618 210 257 394 547 662\n",
            " 390 258 535 429 697 637 550 538 410 484 343 321 249 688 347 488 321 459\n",
            " 502 684 590 244 663 231 214 466 304 223 255 452 212 225 232 318 444 627\n",
            " 695 406 264 606 410 617 655 489 351 337 600 484 638 687 553 446 332 486\n",
            " 649 298 442 630 676 674 423 694 302 388 414 337 608 517 680 664 456 351\n",
            " 203 202 485 632 614 643 311 226 293 633 426 656 635 347 538 478 514 263\n",
            " 308 639 242 347 222 349 692 439 415 309 229 445 271 324 260 397 624 649\n",
            " 347 509 690 350 590 616 254 650 419 621 303 440 395 668 549 515 267 401\n",
            " 343 535 337 318 271 460 576 690 320 218 501 308 463 607 475 502 243 246\n",
            " 355 266 291 361 659 460 351 697 380 355 386 649 672 299 424 622 663 610\n",
            " 267 211]\n"
          ],
          "name": "stdout"
        }
      ]
    },
    {
      "cell_type": "code",
      "metadata": {
        "colab": {
          "base_uri": "https://localhost:8080/"
        },
        "id": "Yaww8zS8IPkO",
        "outputId": "e7ab7ca9-e10e-432c-c5ad-bd02831ccb2b"
      },
      "source": [
        "# Define a Pathloss Model Cost 231 for Sub Urban Area by the given input\r\n",
        "LpSuburban=pathloss(f2,loc2,tower2,user2,d2)\r\n",
        "\r\n",
        "# Print the random integer of Lp Sub Urban area Model\r\n",
        "print(LpSuburban)"
      ],
      "execution_count": 6,
      "outputs": [
        {
          "output_type": "stream",
          "text": [
            "[217.86198912 202.14062138 217.73949933 207.32525256 209.80011929\n",
            " 211.52712473 214.45198214 217.34443504 217.2173403  215.18357159\n",
            " 214.50367481 217.73949933 209.72788202 211.36687001 210.39962413\n",
            " 210.43410698 204.89378846 201.50599886 208.5580713  209.83609949\n",
            " 207.78990822 201.95321856 210.84144826 216.54176867 216.01873286\n",
            " 204.32088653 205.5907763  215.06011561 217.34443504 212.24168467\n",
            " 216.24852976 201.04411362 203.88909065 209.90778533 214.52945019\n",
            " 217.2173403  209.76404696 203.94379456 214.21698848 211.1066088\n",
            " 217.94306122 216.67507791 214.60649452 214.29575609 210.46850563\n",
            " 212.80580329 207.95514457 207.0213774  203.44363891 217.75998841\n",
            " 208.11846509 212.92174005 207.0213774  212.05874395 213.32016525\n",
            " 217.67785268 215.59540839 203.15790421 217.23860255 202.38667546\n",
            " 201.30989958 212.27194513 206.25489702 201.89019279 203.77904136\n",
            " 211.84226623 201.17763346 202.0159636  202.44752323 206.88911129\n",
            " 211.59071959 216.45218975 217.9025835  210.33040415 204.26763037\n",
            " 215.97232017 210.46850563 216.22571803 217.06759909 212.95057576\n",
            " 208.27991371 207.70655746 215.83215745 212.80580329 216.69717397\n",
            " 217.73949933 214.68311976 211.65402862 207.49599692 212.86389095\n",
            " 216.93797022 205.97409893 211.52712473 216.51942729 217.51213032\n",
            " 217.47039329 210.9082078  217.88230093 206.16191822 209.69162399\n",
            " 210.60526629 207.70655746 216.01873286 213.73490289 217.59523521\n",
            " 217.25983276 211.96637485 208.27991371 200.56656831 200.49700651\n",
            " 212.83487706 216.56407467 216.15706036 216.80713735 206.57557319\n",
            " 202.07843039 205.73574743 216.58634541 211.0077576  217.08908839\n",
            " 216.63078153 208.11846509 214.29575609 212.6300891  213.65292649\n",
            " 204.2141721  206.43903347 216.71923543 203.04196745 208.11846509\n",
            " 201.82688375 208.19942071 217.84164798 211.43119084 210.63924999\n",
            " 206.48469392 202.26418566 211.62240967 204.63626323 207.15241312\n",
            " 204.05256913 210.01463467 216.38462973 216.93797022 208.11846509\n",
            " 213.51523001 217.80087737 208.2397247  215.59540839 216.2028693\n",
            " 203.72369262 216.95965804 210.77437081 216.31674412 206.20848433\n",
            " 211.46324145 209.94349191 217.34443504 214.58085987 213.680305\n",
            " 204.42679859 210.15585127 207.95514457 214.21698848 207.70655746\n",
            " 206.88911129 204.63626323 212.08939954 215.25712914 217.80087737\n",
            " 206.97742655 201.57076328 213.29207703 206.43903347 212.18096804\n",
            " 215.99554563 212.54140316 213.32016525 203.10005511 203.27289455\n",
            " 208.43953284 204.3739421  205.63926598 208.67562056 217.15336031\n",
            " 212.08939954 208.27991371 217.94306122 209.39815009 208.43953284\n",
            " 209.61882673 216.93797022 217.42853223 206.02128905 210.9414693\n",
            " 216.33940903 217.23860255 216.06499312 204.42679859 201.11103174]\n"
          ],
          "name": "stdout"
        }
      ]
    },
    {
      "cell_type": "code",
      "metadata": {
        "colab": {
          "base_uri": "https://localhost:8080/"
        },
        "id": "K0CERbZlJJZE",
        "outputId": "89ca7d2c-84dd-4838-b464-159a3e415da8"
      },
      "source": [
        "# Calculate the Pathloss Model Cost 231 for 1800 MHz in Open Area\r\n",
        "\r\n",
        "# fq is the frequency in range of 150 to 2000 MHz\r\n",
        "# ht is the height of antenna transmitter in range of 30 to 200 m\r\n",
        "# hr is the height of antenna receiver in range of 1 to 20 m\r\n",
        "# types is the type of area given\r\n",
        "# d is the distance between the transmitter and receiver in m\r\n",
        "\r\n",
        "f3=1800 #in Mhz\r\n",
        "loc3='open'\r\n",
        "tower3=80 #in m\r\n",
        "user3=1.5 #in m\r\n",
        "dmin3=200 #in m\r\n",
        "dmax3=700 #in m\r\n",
        "N3=200 #dots\r\n",
        "d3=np.random.randint(dmin2,dmax2,N2)\r\n",
        "\r\n",
        "# Print the randon integer of Open area distance input\r\n",
        "print(d3) "
      ],
      "execution_count": 7,
      "outputs": [
        {
          "output_type": "stream",
          "text": [
            "[451 596 590 308 376 657 688 407 607 531 225 202 356 504 566 463 381 492\n",
            " 672 537 350 485 345 553 364 623 248 651 446 232 389 234 240 288 493 417\n",
            " 264 470 246 327 688 523 292 567 553 493 550 437 607 652 623 322 470 362\n",
            " 390 322 505 238 454 297 266 263 600 549 681 210 352 409 308 652 275 211\n",
            " 270 686 256 578 362 401 280 264 264 281 561 365 485 636 352 264 409 598\n",
            " 553 571 450 518 432 241 463 297 244 658 366 567 354 542 324 553 242 357\n",
            " 617 301 645 516 441 591 231 471 494 360 451 686 397 231 429 490 533 508\n",
            " 570 257 640 606 252 378 630 467 665 224 649 446 563 535 252 534 314 362\n",
            " 500 684 421 398 427 492 370 494 402 549 438 452 362 636 258 645 401 526\n",
            " 503 254 291 603 560 311 677 639 416 277 354 639 526 431 568 617 634 533\n",
            " 377 246 549 637 691 487 357 696 311 593 234 350 623 455 680 216 609 415\n",
            " 363 254]\n"
          ],
          "name": "stdout"
        }
      ]
    },
    {
      "cell_type": "code",
      "metadata": {
        "colab": {
          "base_uri": "https://localhost:8080/"
        },
        "id": "q2076hTyJXOG",
        "outputId": "f036f479-238e-45a8-e8e1-2b7de06bec30"
      },
      "source": [
        "# Define a Pathloss Model Cost 231 for Open Area by the given input\r\n",
        "LpOpen=pathloss(f3,loc3,tower3,user3,d3)\r\n",
        "\r\n",
        "# Print the randon integer of Lp Open area Model\r\n",
        "print(LpOpen)"
      ],
      "execution_count": 8,
      "outputs": [
        {
          "output_type": "stream",
          "text": [
            "[212.20966712 216.13653443 215.99400805 206.83763313 209.64768765\n",
            " 217.50914463 218.15858807 210.76365632 216.39414529 214.5098748\n",
            " 202.41456326 200.89560617 208.87775626 213.77477388 215.40902831\n",
            " 212.5795677  209.83377011 213.43533005 217.82713189 214.66814879\n",
            " 208.63832436 213.23347672 208.43564119 215.08171942 209.19079665\n",
            " 216.76063718 203.78555343 217.37991218 212.05262829 202.84612289\n",
            " 210.12648168 202.96703554 203.3236682  205.89189296 213.46393155\n",
            " 211.10557208 204.66623003 212.79094072 203.67149421 207.68084077\n",
            " 218.15858807 214.29603786 206.08618897 215.4338937  215.08171942\n",
            " 213.46393155 215.00509418 211.76546967 216.39414529 217.40153343\n",
            " 216.76063718 207.46379121 212.79094072 209.11318633 210.16264662\n",
            " 207.46379121 213.80269507 203.20579105 212.30305688 206.32534985\n",
            " 204.77254176 204.61277176 216.23075711 214.97945953 218.01453471\n",
            " 201.44271328 208.71858804 210.83270664 206.83763313 217.40153343\n",
            " 205.24125835 201.5096314  204.98278802 218.11758007 204.23277314\n",
            " 215.70455463 209.11318633 210.55445093 205.49507129 204.66623003\n",
            " 204.66623003 205.54528966 215.2840387  209.22944204 213.23347672\n",
            " 217.05154679 208.71858804 204.66623003 210.83270664 216.18372455\n",
            " 215.08171942 215.53291862 212.1783991  214.16072234 211.60337079\n",
            " 203.38223892 212.5795677  206.32534985 203.55650387 217.53056857\n",
            " 209.2679817  215.4338937  208.79839697 214.79869873 207.55101278\n",
            " 215.08171942 203.44056711 208.91726888 216.62431769 206.51379731\n",
            " 217.24948313 214.10623006 211.89381896 216.01786282 202.78527512\n",
            " 212.8208796  213.4924751  209.03514603 212.20966712 218.11758007\n",
            " 210.41323433 202.78527512 211.50520846 213.37795222 214.56283064\n",
            " 213.88612812 215.50822758 204.28769031 217.13986205 216.37091983\n",
            " 204.01093804 209.72241587 216.91802695 212.70074038 217.67963067\n",
            " 202.35181822 217.33656988 212.05262829 215.33416771 214.61558814\n",
            " 204.01093804 214.58923409 207.10940177 209.11318633 213.66253235\n",
            " 218.07645234 211.24004792 210.44867143 211.4393848  213.43533005\n",
            " 209.42109449 213.4924751  210.58953497 214.97945953 211.7976668\n",
            " 212.24086589 209.11318633 217.05154679 204.34239422 217.24948313\n",
            " 210.55445093 214.3766076  213.74679723 204.12229228 206.03786564\n",
            " 216.3010128  215.25890713 206.97417285 217.93155222 217.11783509\n",
            " 211.07175156 205.34333298 208.79839697 217.11783509 214.3766076\n",
            " 211.57072596 215.45871527 216.62431769 217.00718065 214.56283064\n",
            " 209.68510131 203.67149421 214.97945953 217.07367757 218.21987709\n",
            " 213.29144486 208.91726888 218.32143656 206.97417285 216.0654515\n",
            " 202.96703554 208.63832436 216.76063718 212.33404972 217.99383487\n",
            " 201.83953495 216.44048164 211.03784965 209.15204494 204.12229228]\n"
          ],
          "name": "stdout"
        }
      ]
    },
    {
      "cell_type": "code",
      "metadata": {
        "id": "EpwTBu87DIER"
      },
      "source": [
        "d_sort=d[np.argsort(d)]\r\n",
        "Urban_sort=LpUrban[np.argsort(d)]\r\n",
        "\r\n",
        "d2_sort=d2[np.argsort(d2)]\r\n",
        "Suburban_sort=LpSuburban[np.argsort(d2)]\r\n",
        "\r\n",
        "d3_sort=d3[np.argsort(d3)]\r\n",
        "Open_sort=LpOpen[np.argsort(d3)]"
      ],
      "execution_count": 9,
      "outputs": []
    },
    {
      "cell_type": "code",
      "metadata": {
        "colab": {
          "base_uri": "https://localhost:8080/",
          "height": 295
        },
        "id": "Apyl-W_MGNPQ",
        "outputId": "a0dd23ad-86d4-47b8-9211-859199a80f9f"
      },
      "source": [
        "fig, ax = plt.subplots()\r\n",
        "ax.plot(d_sort,Urban_sort, color='b', label='Urban')\r\n",
        "ax.plot(d2_sort,Suburban_sort, color='r', label='Sub Urban')\r\n",
        "ax.plot(d3_sort,Open_sort, color='g', label='Open')\r\n",
        "ax.set_title('Frequency of 1800 MHz based on Type Area given')\r\n",
        "ax.set_xlabel('Distance (m)')\r\n",
        "ax.set_ylabel('Pathloss (dB)')\r\n",
        "ax.legend(loc='upper left')\r\n",
        "plt.show()"
      ],
      "execution_count": 10,
      "outputs": [
        {
          "output_type": "display_data",
          "data": {
            "image/png": "[encoded data removed]",
            "text/plain": [
              "<Figure size 432x288 with 1 Axes>"
            ]
          },
          "metadata": {
            "tags": [],
            "needs_background": "light"
          }
        }
      ]
    },
    {
      "cell_type": "code",
      "metadata": {
        "id": "8h3mfJfbGnVm",
        "colab": {
          "base_uri": "https://localhost:8080/"
        },
        "outputId": "cffaf34d-46a3-49a4-b693-0bd87402bf34"
      },
      "source": [
        "# Calculate the Pathloss Model Cost 231 for 700 MHz in Urban Area\r\n",
        "\r\n",
        "# fq is the frequency in range of 150 to 2000 MHz\r\n",
        "# ht is the height of antenna transmitter in range of 30 to 200 m\r\n",
        "# hr is the height of antenna receiver in range of 1 to 20 m\r\n",
        "# types is the type of area given\r\n",
        "# d is the distance between the transmitter and receiver in m\r\n",
        "\r\n",
        "f4=700 #in Mhz\r\n",
        "loc4='urban'\r\n",
        "tower4=80 #in m\r\n",
        "user4=1.5 #in m\r\n",
        "dmin4=200 #in m\r\n",
        "dmax4=700 #in m\r\n",
        "N4=200 #dots\r\n",
        "d4=np.random.randint(dmin2,dmax2,N2)\r\n",
        "\r\n",
        "# Print the randon integer of 700 MHz Urban area distance input\r\n",
        "print(d4) "
      ],
      "execution_count": 11,
      "outputs": [
        {
          "output_type": "stream",
          "text": [
            "[690 426 301 257 245 683 500 425 257 312 662 298 640 521 544 320 689 221\n",
            " 248 257 428 589 455 208 414 626 203 599 589 376 484 291 500 426 300 449\n",
            " 323 669 201 478 317 280 460 358 541 648 249 693 603 338 631 379 240 442\n",
            " 505 291 359 622 624 510 510 306 253 357 233 635 610 622 346 591 243 430\n",
            " 377 473 201 363 598 606 389 570 267 475 310 287 385 515 297 645 336 693\n",
            " 410 330 344 328 464 668 339 307 243 611 454 298 391 418 274 375 470 396\n",
            " 432 248 232 522 218 342 502 348 370 517 571 243 499 368 502 657 431 421\n",
            " 342 357 231 491 408 637 339 603 554 353 442 619 235 610 485 403 674 695\n",
            " 291 312 325 460 489 232 580 238 340 505 272 256 604 650 616 313 620 376\n",
            " 685 258 520 448 328 292 647 223 250 398 691 531 676 469 546 514 673 614\n",
            " 263 349 406 572 549 594 489 227 499 463 519 554 380 282 655 451 553 535\n",
            " 413 494]\n"
          ],
          "name": "stdout"
        }
      ]
    },
    {
      "cell_type": "code",
      "metadata": {
        "colab": {
          "base_uri": "https://localhost:8080/"
        },
        "id": "xZwFZHnXcFi6",
        "outputId": "ba02295f-17b4-4ccb-cbfc-e0978184b274"
      },
      "source": [
        "# Define a Pathloss Model Cost 231 for Open Area by the given input\r\n",
        "LpUrbanFQ1=pathloss(f4,loc4,tower4,user4,d4)\r\n",
        "\r\n",
        "# Print the randon integer of Lp Open area Model\r\n",
        "print(LpUrbanFQ1)"
      ],
      "execution_count": 12,
      "outputs": [
        {
          "output_type": "stream",
          "text": [
            "[208.72936198 201.93624221 197.04368226 194.81757526 194.14400133\n",
            " 208.5857283  204.1924173  201.90313705 194.81757526 197.5492785\n",
            " 208.14582492 196.90258354 207.669747   204.77195249 205.38046675\n",
            " 197.90591116 208.70893233 192.6917735  194.31543838 194.81757526\n",
            " 202.00222002 206.49999776 202.86393467 191.83780067 201.5337509\n",
            " 207.35819034 191.49505292 206.73714541 206.49999776 200.1775726\n",
            " 203.7342879  196.56775059 204.1924173  201.93624221 196.99680622\n",
            " 202.67694647 198.03735445 208.29399106 191.35558409 203.55857372\n",
            " 197.77322976 196.02495624 203.01788415 199.48655591 205.30257031\n",
            " 207.84473357 194.37212352 208.79047373 206.83089775 198.6767791\n",
            " 207.47025328 200.28951679 193.85355315 202.45560934 204.33258002\n",
            " 196.56775059 199.5258481  207.26789364 207.31311434 204.47136181\n",
            " 204.47136181 197.27575073 194.59661014 199.44715383 193.4365939\n",
            " 207.55926614 206.99347773 207.26789364 199.00629676 206.54774777\n",
            " 194.02853972 202.06789025 200.21498626 203.41045208 191.35558409\n",
            " 199.68192989 206.7136095  206.90080478 200.65636663 206.03811253\n",
            " 195.3552832  203.46988777 197.45869145 196.37278225 200.51077115\n",
            " 204.60878961 196.8552348  207.77936808 198.593181   208.79047373\n",
            " 201.39699024 198.33936805 198.92463718 198.25373717 203.13984368\n",
            " 208.27291965 198.71839283 197.32170913 194.02853972 207.01655102\n",
            " 202.83294183 196.90258354 200.7286039  201.66919653 195.71982725\n",
            " 200.14005929 203.32082567 200.90759281 202.13325574 194.31543838\n",
            " 193.37600784 204.7989635  192.49924789 198.84250145 204.24864986\n",
            " 199.08748567 199.95097944 204.6633875  206.06280357 194.02853972\n",
            " 204.16421662 199.87463108 204.24864986 208.03902958 202.10061091\n",
            " 201.76993287 198.84250145 199.44715383 193.31516007 203.9365553\n",
            " 201.32810874 207.60356252 198.71839283 206.83089775 205.63705377\n",
            " 199.28843398 202.45560934 207.19978921 193.55698983 206.99347773\n",
            " 203.76336167 201.15441681 208.3988779  208.83106811 196.56775059\n",
            " 197.5492785  198.12430681 203.01788415 203.87906037 193.37600784\n",
            " 206.28309675 193.735676   198.75988398 204.33258002 195.61663091\n",
            " 194.76265809 206.85423867 207.88814265 207.13135392 197.5943545\n",
            " 207.22252729 200.1775726  208.62691616 194.87227917 204.74488958\n",
            " 202.64553901 198.25373717 196.61607392 207.82297875 192.8186774\n",
            " 194.42858146 200.97855638 208.74976204 205.03975975 208.44061493\n",
            " 203.29082302 205.43215942 204.5814111  208.37796292 207.08554497\n",
            " 195.14265671 199.12790532 201.25888876 206.08745142 205.50934448\n",
            " 206.61907064 203.87906037 193.06910599 204.16421662 203.10945265\n",
            " 204.71777458 205.63705377 200.3266347  196.12521459 207.9960837\n",
            " 202.73955207 205.61160437 205.14547309 201.49968501 204.02236005]\n"
          ],
          "name": "stdout"
        }
      ]
    },
    {
      "cell_type": "code",
      "metadata": {
        "colab": {
          "base_uri": "https://localhost:8080/"
        },
        "id": "fi4o1h9OcOAH",
        "outputId": "da8683c9-db76-4a44-8437-498343f0f51a"
      },
      "source": [
        "# Calculating the Pathloss Model Cost 231 for 700 MHz in Urban Area\r\n",
        "\r\n",
        "# fq is the frequency in range of 150 to 2000 MHz\r\n",
        "# ht is the height of antenna transmitter in range of 30 to 200 m\r\n",
        "# hr is the height of antenna receiver in range of 1 to 20 m\r\n",
        "# types is the type of area given\r\n",
        "# d is the distance between the transmitter and receiver in m\r\n",
        "\r\n",
        "f5=900 #in Mhz\r\n",
        "loc5='urban'\r\n",
        "tower5=80 #in m\r\n",
        "user5=1.5 #in m\r\n",
        "dmin5=200 #in m\r\n",
        "dmax5=700 #in m\r\n",
        "N5=200 #dots\r\n",
        "d5=np.random.randint(dmin2,dmax2,N2)\r\n",
        "\r\n",
        "# Print the randon integer of 700 MHz Urban area distance input\r\n",
        "print(d5) "
      ],
      "execution_count": 13,
      "outputs": [
        {
          "output_type": "stream",
          "text": [
            "[612 578 380 448 259 228 697 558 675 426 217 415 345 674 478 334 604 323\n",
            " 454 375 410 623 541 293 582 528 606 205 517 302 530 404 373 644 521 343\n",
            " 207 436 580 328 305 405 617 448 558 262 215 499 405 259 329 692 301 343\n",
            " 622 483 208 343 551 433 327 278 314 544 547 486 449 673 502 667 436 680\n",
            " 521 367 591 291 403 530 462 429 436 355 261 666 572 278 612 563 394 383\n",
            " 627 386 409 684 510 480 293 541 259 525 445 537 372 379 302 447 485 510\n",
            " 567 468 574 488 335 414 601 487 503 365 276 272 300 604 315 365 632 219\n",
            " 364 341 489 557 449 261 267 219 556 235 473 296 271 457 616 498 281 340\n",
            " 329 638 474 616 211 576 692 244 670 347 369 587 682 546 211 413 302 266\n",
            " 488 648 298 453 251 419 461 367 457 301 684 443 495 405 255 593 339 419\n",
            " 351 238 479 663 415 281 508 299 250 437 297 448 343 350 309 694 559 395\n",
            " 523 487]\n"
          ],
          "name": "stdout"
        }
      ]
    },
    {
      "cell_type": "code",
      "metadata": {
        "colab": {
          "base_uri": "https://localhost:8080/"
        },
        "id": "91QFv7Uucc9J",
        "outputId": "a1e36a94-7a88-4bfa-ac78-af565c8bc3a4"
      },
      "source": [
        "# Define a Pathloss Model Cost 231 for Open Area by the given input\r\n",
        "LpUrbanFQ2=pathloss(f5,loc5,tower5,user5,d5)\r\n",
        "\r\n",
        "# Print the randon integer of Lp Open area Model\r\n",
        "print(LpUrbanFQ2)"
      ],
      "execution_count": 14,
      "outputs": [
        {
          "output_type": "stream",
          "text": [
            "[209.88498289 209.07983589 203.17203102 205.49093533 197.77216777\n",
            " 195.97641994 211.71694215 208.58379036 211.2651582  204.78163853\n",
            " 195.27987979 204.41313092 201.81092246 211.24427422 206.40397003\n",
            " 201.35448013 209.69963498 200.88275077 205.67833815 202.98545561\n",
            " 204.24238655 210.13591845 208.14796663 199.50962836 209.17698274\n",
            " 207.80534714 209.7462011  194.47855072 207.50878382 199.93579915\n",
            " 207.8586033  204.03472327 202.91012796 210.60290832 207.61734881\n",
            " 201.7290255  194.61531138 205.10848005 209.12849307 201.09913348\n",
            " 200.07503821 204.06954712 209.99959896 205.49093533 208.58379036\n",
            " 197.93439111 195.14945073 207.00961293 204.06954712 197.77216777\n",
            " 201.142014   211.61552891 199.88907858 201.7290255  210.11328995\n",
            " 206.55055031 194.68319699 201.7290255  208.40596354 205.0112214\n",
            " 201.05612204 198.76937552 200.48468303 208.22586307 208.30333112\n",
            " 206.63777187 205.52234278 211.22335924 207.09404618 211.09721299\n",
            " 205.10848005 211.36911614 207.61734881 202.68169748 209.39314408\n",
            " 199.41314691 203.99981312 207.8586033  205.92439222 204.88048972\n",
            " 205.10848005 202.21341377 197.88052398 211.07607834 208.93284773\n",
            " 198.76937552 209.88498289 208.70944898 203.68166626 203.28280148\n",
            " 210.22607068 203.39270766 204.20798791 211.45173361 207.31675813\n",
            " 206.46278531 199.50962836 208.14796663 197.77216777 207.72508346\n",
            " 205.3962906  208.04343006 202.87231253 203.13491311 199.93579915\n",
            " 205.45945769 206.60875799 207.31675813 208.80917497 206.10615265\n",
            " 208.98201441 206.69562098 201.39659148 204.37914722 209.6294959\n",
            " 206.66672612 207.1220785  202.60472331 198.66766939 198.46202723\n",
            " 199.84220254 209.69963498 200.52947238 202.60472331 210.3379556\n",
            " 195.40911223 202.56607791 201.6466496  206.72445669 208.55852356\n",
            " 205.52234278 197.88052398 198.20067952 195.40911223 208.53321135\n",
            " 196.40238615 206.2558484  199.65312269 198.41014416 205.77111283\n",
            " 209.97675023 206.98135568 198.92057093 201.6052803  201.142014\n",
            " 210.4710549  206.28559759 209.97675023 194.88491267 209.03101006\n",
            " 211.61552891 196.93178514 211.16042732 201.89234602 202.7582533\n",
            " 209.29748166 211.41048544 208.27755574 194.88491267 204.34508133\n",
            " 199.93579915 198.14782303 206.69562098 210.69012988 199.74797986\n",
            " 205.64727697 197.33021034 204.54825174 205.89386949 202.68169748\n",
            " 205.77111283 199.88907858 211.45173361 205.33283897 206.8962422\n",
            " 204.06954712 197.55292229 209.44073277 201.56378914 204.54825174\n",
            " 202.05379464 196.58107232 206.43340837 211.01248348 204.41313092\n",
            " 198.92057093 207.26140939 199.79516998 197.27397778 205.14075094\n",
            " 199.70063112 205.49093533 201.7290255  202.01360563 200.25857485\n",
            " 211.65618186 208.60901192 203.71737283 207.67131913 206.66672612]\n"
          ],
          "name": "stdout"
        }
      ]
    },
    {
      "cell_type": "code",
      "metadata": {
        "colab": {
          "base_uri": "https://localhost:8080/"
        },
        "id": "pEm63j3uciSF",
        "outputId": "d86d0c0c-aa30-4780-a00a-3d36b6643009"
      },
      "source": [
        "# Calculate the Pathloss Model Cost 231 for 700 MHz in Urban Area\r\n",
        "\r\n",
        "# fq is the frequency in range of 150 to 2000 MHz\r\n",
        "# ht is the height of antenna transmitter in range of 30 to 200 m\r\n",
        "# hr is the height of antenna receiver in range of 1 to 20 m\r\n",
        "# types is the type of area given\r\n",
        "# d is the distance between the transmitter and receiver in m\r\n",
        "\r\n",
        "f6=1800 #in Mhz\r\n",
        "loc6='urban'\r\n",
        "tower6=80 #in m\r\n",
        "user6=1.5 #in m\r\n",
        "dmin6=200 #in m\r\n",
        "dmax6=700 #in m\r\n",
        "N6=200 #dots\r\n",
        "d6=np.random.randint(dmin2,dmax2,N2)\r\n",
        "\r\n",
        "# Print the randon integer of 700 MHz Urban area distance input\r\n",
        "print(d6) "
      ],
      "execution_count": 15,
      "outputs": [
        {
          "output_type": "stream",
          "text": [
            "[427 340 560 338 577 607 448 379 354 456 446 509 388 457 589 460 457 307\n",
            " 389 502 650 463 653 578 604 429 203 291 258 251 218 243 398 577 421 447\n",
            " 302 419 596 254 527 429 549 448 396 459 628 523 616 550 282 428 433 238\n",
            " 523 504 367 378 499 654 578 422 317 218 313 286 260 674 527 497 238 203\n",
            " 634 542 650 383 452 699 477 270 353 532 465 616 406 499 262 319 310 550\n",
            " 374 679 576 438 364 617 299 669 366 321 433 369 506 596 636 395 337 563\n",
            " 323 323 397 285 539 519 589 686 373 629 440 442 562 525 400 254 663 239\n",
            " 334 584 562 365 493 420 476 574 686 419 456 377 567 697 473 501 676 296\n",
            " 330 314 529 408 381 531 243 413 320 621 260 446 601 482 324 236 412 256\n",
            " 444 289 477 428 381 648 554 369 634 517 328 634 662 222 282 682 528 444\n",
            " 667 369 628 686 537 622 610 211 250 287 542 302 410 550 215 304 350 290\n",
            " 442 603]\n"
          ],
          "name": "stdout"
        }
      ]
    },
    {
      "cell_type": "code",
      "metadata": {
        "colab": {
          "base_uri": "https://localhost:8080/"
        },
        "id": "0COqwfm4c2Bi",
        "outputId": "382e6461-3dca-4aa8-b016-bd2099f99cda"
      },
      "source": [
        "# Define a Pathloss Model Cost 231 for Open Area by the given input\r\n",
        "LpUrbanFQ3=pathloss(f6,loc6,tower6,user6,d6)\r\n",
        "\r\n",
        "# Print the randon integer of Lp Open area Model\r\n",
        "print(LpUrbanFQ3)"
      ],
      "execution_count": 16,
      "outputs": [
        {
          "output_type": "stream",
          "text": [
            "[214.60832724 211.39894148 218.42784958 211.31583659 218.84910531\n",
            " 219.56308774 215.28459651 212.92857429 211.96733941 215.53391695\n",
            " 215.22157073 217.08277212 213.25916609 215.564774   219.13905526\n",
            " 215.65694164 215.564774   209.96076663 213.29542412 216.88770735\n",
            " 220.52720015 215.74851014 220.59206398 218.87349707 219.49329616\n",
            " 214.6741509  204.13411042 209.20680808 207.51133666 207.12387152\n",
            " 205.13830539 206.66759721 213.61761387 218.84910531 214.40899036\n",
            " 215.25311887 209.72946032 214.34191292 219.30547688 207.29123472\n",
            " 217.57230454 214.6741509  218.14840198 215.28459651 213.54665031\n",
            " 215.62628606 220.04218005 217.46498031 219.77041141 218.17403663\n",
            " 208.76427208 214.64127752 214.80488258 206.37473349 217.46498031\n",
            " 216.94371633 212.47535865 212.89135832 216.80327411 220.61361905\n",
            " 218.87349707 214.44240969 210.41228726 205.13830539 210.233412\n",
            " 208.96267307 207.62011124 221.0379354  217.57230454 216.7467028\n",
            " 206.37473349 204.13411042 220.1761231  217.96764118 220.52720015\n",
            " 213.07646266 215.40980833 221.55096506 216.16813122 208.15173046\n",
            " 211.92749147 217.70532005 215.80922678 219.77041141 213.89794626\n",
            " 216.80327411 207.72805228 210.50088024 210.09774895 218.17403663\n",
            " 212.74150331 221.14204701 218.82467124 214.96660924 212.35973909\n",
            " 219.79326014 209.58883116 220.93304856 212.43692415 210.58891951\n",
            " 214.80488258 212.55191448 216.99950348 219.30547688 220.22048923\n",
            " 213.51103401 211.27409956 218.50311015 210.67641195 210.67641195\n",
            " 213.58217678 208.91333419 217.88945649 217.35683208 219.13905526\n",
            " 221.28652251 212.70378913 220.06459252 215.03078356 215.09466683\n",
            " 218.47806795 217.51874464 213.68822172 207.29123472 220.80614466\n",
            " 206.43379537 211.14814131 219.01896725 218.47806795 212.39838449\n",
            " 216.632874   214.37549157 216.13856933 218.77567558 221.28652251\n",
            " 214.34191292 215.53391695 212.85404376 218.60283614 221.51060332\n",
            " 216.04950958 216.85961913 221.07967243 209.44678386 210.97842555\n",
            " 210.27834421 217.62566156 213.96716624 213.00271255 217.67881724\n",
            " 206.66759721 214.13874251 210.54496865 219.88428622 207.62011124\n",
            " 215.22157073 219.42315707 216.3150172  210.71995522 206.25586158\n",
            " 214.10459403 207.40171558 215.15826169 209.10966123 216.16813122\n",
            " 214.64127752 213.00271255 220.48379106 218.27611126 212.55191448\n",
            " 220.1761231  217.30244499 210.89279466 220.1761231  220.78488241\n",
            " 205.39442585 208.76427208 221.20414662 217.59900832 215.15826169\n",
            " 220.89087416 212.55191448 220.04218005 221.28652251 217.83709124\n",
            " 219.90695113 219.63253523 204.67857385 207.06763896 209.01183974\n",
            " 217.96764118 209.72946032 214.03604773 218.17403663 204.9431119\n",
            " 209.82243913 211.80726681 209.1583184  215.09466683 219.46995525]\n"
          ],
          "name": "stdout"
        }
      ]
    },
    {
      "cell_type": "code",
      "metadata": {
        "id": "TOhKmYsec7Pn"
      },
      "source": [
        "d4_sort=d4[np.argsort(d4)]\r\n",
        "UrbanFQ_sort=LpUrbanFQ1[np.argsort(d4)]\r\n",
        "\r\n",
        "d5_sort=d5[np.argsort(d5)]\r\n",
        "UrbanFQ2_sort=LpUrbanFQ2[np.argsort(d5)]\r\n",
        "\r\n",
        "d6_sort=d6[np.argsort(d6)]\r\n",
        "UrbanFQ3_sort=LpUrbanFQ3[np.argsort(d6)]"
      ],
      "execution_count": 17,
      "outputs": []
    },
    {
      "cell_type": "code",
      "metadata": {
        "colab": {
          "base_uri": "https://localhost:8080/",
          "height": 295
        },
        "id": "mj_Qjq0ddR4-",
        "outputId": "22006022-4cbf-4d19-80f4-606ef5ee1df8"
      },
      "source": [
        "fig, ax = plt.subplots()\r\n",
        "ax.plot(d4_sort,UrbanFQ_sort, color='b', label='700 MHz')\r\n",
        "ax.plot(d5_sort,UrbanFQ2_sort, color='r', label='900 MHz')\r\n",
        "ax.plot(d6_sort,UrbanFQ3_sort, color='g', label='1800 MHz')\r\n",
        "ax.set_title('Urban Area Model based on Frequency Area given')\r\n",
        "ax.set_xlabel('Distance (m)')\r\n",
        "ax.set_ylabel('Pathloss (dB)')\r\n",
        "ax.legend(loc='upper left')\r\n",
        "plt.show()"
      ],
      "execution_count": 18,
      "outputs": [
        {
          "output_type": "display_data",
          "data": {
            "image/png": "[encoded data removed]",
            "text/plain": [
              "<Figure size 432x288 with 1 Axes>"
            ]
          },
          "metadata": {
            "tags": [],
            "needs_background": "light"
          }
        }
      ]
    }
  ]
}