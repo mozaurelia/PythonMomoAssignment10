{
  "nbformat": 4,
  "nbformat_minor": 0,
  "metadata": {
    "colab": {
      "name": "Moza Aurelia - Python Assignment Week12",
      "provenance": [],
      "include_colab_link": true
    },
    "kernelspec": {
      "name": "python3",
      "display_name": "Python 3"
    }
  },
  "cells": [
    {
      "cell_type": "markdown",
      "metadata": {
        "id": "view-in-github",
        "colab_type": "text"
      },
      "source": [
        "<a href=\"https://colab.research.google.com/github/mozaurelia/PythonMomoAssignment10/blob/main/Moza_Aurelia_Python_Assignment_Week12.ipynb\" target=\"_parent\"><img src=\"https://colab.research.google.com/assets/colab-badge.svg\" alt=\"Open In Colab\"/></a>"
      ]
    },
    {
      "cell_type": "markdown",
      "metadata": {
        "id": "CW6k9-_ig_wi"
      },
      "source": [
        "Creating a Pathloss Model Function COST 231"
      ]
    },
    {
      "cell_type": "code",
      "metadata": {
        "id": "sNq0tE5kgoqC"
      },
      "source": [
        "# Import a required library for numeric process\r\n",
        "import numpy as np"
      ],
      "execution_count": 1,
      "outputs": []
    },
    {
      "cell_type": "code",
      "metadata": {
        "id": "j6bYrQntoO9G"
      },
      "source": [
        "# Create function for change the Number to Logaritmic\r\n",
        "NtL = lambda n: 10*np.log10(n)"
      ],
      "execution_count": 2,
      "outputs": []
    },
    {
      "cell_type": "code",
      "metadata": {
        "id": "EpEKQwRotqS_"
      },
      "source": [
        "# Create a function for change the Logaritmic to Number\r\n",
        "LtN = lambda n: 10**(n/10)"
      ],
      "execution_count": 3,
      "outputs": []
    },
    {
      "cell_type": "code",
      "metadata": {
        "id": "83iKfJjB0Pni"
      },
      "source": [
        "# Create a function if C1 and C2 is differentiate in the range value of Frequency for Path Loss model function\r\n",
        "\r\n",
        "def c (fc):\r\n",
        "  if (fc >= 400 and fc <= 1500):\r\n",
        "    c1 = 69.55\r\n",
        "    c2 = 26.16\r\n",
        "    return c1,c2\r\n",
        "  elif (fc >1500 and fc <= 2000):\r\n",
        "    c1 = 46.3\r\n",
        "    c2 = 33.9\r\n",
        "    return c1,c2\r\n",
        "  else:\r\n",
        "    c1 = print(\"The given frequency is not in accordance with the C1 criteria.\")\r\n",
        "    c2 = print(\"The given frequency is not in accordance with the C2 criteria.\")\r\n",
        "    return c1,c2\r\n"
      ],
      "execution_count": 4,
      "outputs": []
    },
    {
      "cell_type": "code",
      "metadata": {
        "colab": {
          "base_uri": "https://localhost:8080/"
        },
        "id": "SGLoBQ8u4SwQ",
        "outputId": "a1227123-5a98-4569-8b92-855c034c17f1"
      },
      "source": [
        "# Test the C1 and C2 parameter function\r\n",
        "\r\n",
        "c1,c2 = c(1000)\r\n",
        "\r\n",
        "# Print out the value of C1 of the given frequency\r\n",
        "print(\"The c1 value: \",c1)\r\n",
        "\r\n",
        "# Print out the value of C2 of the given frequency\r\n",
        "print(\"The c2 value: \",c2)"
      ],
      "execution_count": 5,
      "outputs": [
        {
          "output_type": "stream",
          "text": [
            "The c1 value:  69.55\n",
            "The c2 value:  26.16\n"
          ],
          "name": "stdout"
        }
      ]
    },
    {
      "cell_type": "code",
      "metadata": {
        "colab": {
          "base_uri": "https://localhost:8080/"
        },
        "id": "BHhRVTgW4yh4",
        "outputId": "a8512201-d8b9-4cb6-8be3-1c3363a0ce5a"
      },
      "source": [
        "# Test the C1 and C2 parameter model\r\n",
        "\r\n",
        "c1,c2 = c(1700)\r\n",
        "\r\n",
        "# Print out the value of C1 of the given frequency\r\n",
        "print(\"The c1 value: \",c1)\r\n",
        "\r\n",
        "# Print out the value of C2 of the given frequency\r\n",
        "print(\"The c2 value: \",c2)"
      ],
      "execution_count": 6,
      "outputs": [
        {
          "output_type": "stream",
          "text": [
            "The c1 value:  46.3\n",
            "The c2 value:  33.9\n"
          ],
          "name": "stdout"
        }
      ]
    },
    {
      "cell_type": "code",
      "metadata": {
        "colab": {
          "base_uri": "https://localhost:8080/"
        },
        "id": "oMuMNY3y42-5",
        "outputId": "e4eb1b9f-fbc8-4c8c-8165-5685536498b3"
      },
      "source": [
        "# Test the C1 and C2 parameter function\r\n",
        "\r\n",
        "c1,c2 = c(2100)\r\n",
        "\r\n",
        "# Print out the value of C1 of the given frequency\r\n",
        "print(\"c1 value is: \",c1)\r\n",
        "\r\n",
        "# Print out the value of C2 of the given frequency\r\n",
        "print(\"c2 value is: \",c2)"
      ],
      "execution_count": 7,
      "outputs": [
        {
          "output_type": "stream",
          "text": [
            "The given frequency is not in accordance with the C1 criteria.\n",
            "The given frequency is not in accordance with the C2 criteria.\n",
            "c1 value is:  None\n",
            "c2 value is:  None\n"
          ],
          "name": "stdout"
        }
      ]
    },
    {
      "cell_type": "code",
      "metadata": {
        "id": "wICFtgIP46Db"
      },
      "source": [
        "# The value a(hr) can be calculated as \r\n",
        "\r\n",
        "def a(fc,hr):\r\n",
        "  valueA = (1.1*np.log10(fc)-0.7)*hr - (1.56*np.log(fc) - 0.8)\r\n",
        "  return valueA"
      ],
      "execution_count": 8,
      "outputs": []
    },
    {
      "cell_type": "code",
      "metadata": {
        "colab": {
          "base_uri": "https://localhost:8080/"
        },
        "id": "R_PHsMsU8Tzy",
        "outputId": "c15798f2-ab5e-458e-bfdf-ca7c2c7b5874"
      },
      "source": [
        "# Test the given input of Value a\r\n",
        "\r\n",
        "ahr= a(150,20)\r\n",
        "\r\n",
        "print(\"The A value: \",ahr)"
      ],
      "execution_count": 9,
      "outputs": [
        {
          "output_type": "stream",
          "text": [
            "The A value:  26.85741664043483\n"
          ],
          "name": "stdout"
        }
      ]
    },
    {
      "cell_type": "code",
      "metadata": {
        "id": "bCuvANaC9NWs"
      },
      "source": [
        "# Creating a area type function for Path Loss model function\r\n",
        "def tipearea(area,fc):\r\n",
        "  if area == 'urban':\r\n",
        "    cm=0\r\n",
        "    return cm\r\n",
        "  elif area == 'suburban':\r\n",
        "    cm=-2(np.log10(fc/28))**2-5.4\r\n",
        "    return cm\r\n",
        "  elif area == 'open':\r\n",
        "    cm=-4.78*(np.log10(fc))**2+18.33*np.log10(fc)-40.94\r\n",
        "    return cm \r\n",
        "  else:\r\n",
        "    cm= print('the given area is not suitable for this parameter')\r\n",
        "    return cm"
      ],
      "execution_count": 10,
      "outputs": []
    },
    {
      "cell_type": "code",
      "metadata": {
        "colab": {
          "base_uri": "https://localhost:8080/"
        },
        "id": "5jKXz1s-x21A",
        "outputId": "05455f45-b605-4f04-86ce-0c6d82f200e6"
      },
      "source": [
        "# Testing area type function\r\n",
        "\r\n",
        "areatype = tipearea('open',1000)\r\n",
        "print(\"The cm value based on the given area type: \", areatype)"
      ],
      "execution_count": 11,
      "outputs": [
        {
          "output_type": "stream",
          "text": [
            "The cm value based on the given area type:  -28.970000000000006\n"
          ],
          "name": "stdout"
        }
      ]
    },
    {
      "cell_type": "markdown",
      "metadata": {
        "id": "NmFKF2VHy-ba"
      },
      "source": [
        "**PATHLOSS MODEL COST 231**\r\n",
        "\r\n",
        "> The model is built by three other function\r\n",
        "\r\n"
      ]
    },
    {
      "cell_type": "code",
      "metadata": {
        "id": "oEUYVYpdy2h4"
      },
      "source": [
        "def pathloss(fc,ht,hr,d,area):\r\n",
        "\r\n",
        "  # Based on the given C value\r\n",
        "  if (fc >= 400 and fc <= 1500):\r\n",
        "    c1 = 69.55\r\n",
        "    c2 = 26.16\r\n",
        "    return c1,c2\r\n",
        "  elif (fc >1500 and fc <= 2000):\r\n",
        "    c1 = 46.3\r\n",
        "    c2 = 33.9\r\n",
        "    return c1,c2\r\n",
        "  else:\r\n",
        "    c1 = print(\"The given frequency is not in accordance with the C1 criteria.\")\r\n",
        "    c2 = print(\"The given frequency is not in accordance with the C2 criteria.\")\r\n",
        "    return c1,c2\r\n",
        "\r\n",
        "  # a(hr) value is \r\n",
        "  valueA = (1.1*np.log10(fc)-0.7)*hr - (1.56*np.log(fc) - 0.8)\r\n",
        "  return valueA\r\n",
        "  \r\n",
        "  # Based on the given area \r\n",
        "  if area == 'urban':\r\n",
        "    cm=0\r\n",
        "    return cm\r\n",
        "  elif area == 'suburban':\r\n",
        "    cm=-2(np.log10(fc/28))**2-5.4\r\n",
        "    return cm\r\n",
        "  elif area == 'open':\r\n",
        "    cm=-4.78*(np.log10(fc))**2+18.33*np.log10(fc)-40.94\r\n",
        "    return cm \r\n",
        "  else:\r\n",
        "    cm= print('the given area is not in accordance for this parameter')\r\n",
        "    return cm\r\n",
        "  \r\n",
        "  # Calculating Path Loss Model\r\n",
        "  Lp = c1+(c2*np.log10(fc))-(13.83*np.log10(ht))-a*(hr)+(44.9-6.55*np.log10(ht)*np.log10(d)+cm)\r\n",
        "\r\n",
        "  # Converting the result valu to dB\r\n",
        "  LptoDb= NtL(Lp)\r\n",
        "  return Lp,Lpdb"
      ],
      "execution_count": 12,
      "outputs": []
    },
    {
      "cell_type": "code",
      "metadata": {
        "colab": {
          "base_uri": "https://localhost:8080/"
        },
        "id": "HFkh0Ub11wa1",
        "outputId": "21070c5e-593a-47b0-e68f-0c8daedeba6c"
      },
      "source": [
        "# Calculating the Path Loss Model\r\n",
        "\r\n",
        "# fc is frequency in range of 150 MHz to 2000 MHz\r\n",
        "# ht is the height of antenna transmitter in range of 30 to 200 m\r\n",
        "# hr is the height of antenna receiver in range of 1 to 20 m\r\n",
        "# d is the distance between the transmitter and receiver in km\r\n",
        "# value a(hr)\r\n",
        "\r\n",
        "PathLoss,pathlossdB = pathloss (1200,100,10,2,'urban')\r\n",
        "print(\"The Path Loss is \",PathLoss,\"Watt\")\r\n",
        "print(\"The Path Loss in dB is \",pathlossdB,\"dB\")"
      ],
      "execution_count": 13,
      "outputs": [
        {
          "output_type": "stream",
          "text": [
            "The Path Loss is  69.55 Watt\n",
            "The Path Loss in dB is  26.16 dB\n"
          ],
          "name": "stdout"
        }
      ]
    },
    {
      "cell_type": "code",
      "metadata": {
        "id": "ar0EDwU93WVJ"
      },
      "source": [
        ""
      ],
      "execution_count": 13,
      "outputs": []
    }
  ]
}